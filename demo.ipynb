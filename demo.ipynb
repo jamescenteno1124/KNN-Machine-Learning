{
 "cells": [
  {
   "cell_type": "code",
   "execution_count": 1,
   "metadata": {},
   "outputs": [],
   "source": [
    "import warnings \n",
    "import numpy as np\n",
    "import pandas as pd\n",
    "import seaborn as sns\n",
    "from pylab import rcParams\n",
    "import matplotlib.pyplot as plt\n",
    "from sklearn import preprocessing \n",
    "from sklearn import neighbors, datasets\n",
    "from matplotlib.colors import ListedColormap\n",
    "from sklearn.neighbors import KNeighborsClassifier\n",
    "from sklearn.model_selection import train_test_split\n",
    "from sklearn.metrics import accuracy_score, classification_report"
   ]
  },
  {
   "cell_type": "code",
   "execution_count": 2,
   "metadata": {},
   "outputs": [],
   "source": [
    "# filter warnings\n",
    "warnings.filterwarnings(\"ignore\")"
   ]
  },
  {
   "cell_type": "code",
   "execution_count": 3,
   "metadata": {},
   "outputs": [],
   "source": [
    "# load your data \n",
    "data  = pd.read_csv('diabetes.csv')\n",
    "names = list(data.columns)"
   ]
  },
  {
   "cell_type": "code",
   "execution_count": 13,
   "metadata": {},
   "outputs": [],
   "source": [
    "# Replace zeroes\n",
    "zero_not_accepted = ['Glucose', 'BloodPressure', 'SkinThickness', 'BMI', 'Insulin']\n",
    "\n",
    "for column in zero_not_accepted:\n",
    "    data[column] = data[column].replace(0, np.NaN)\n",
    "    mean = int(data[column].mean(skipna=True))\n",
    "    data[column] = data[column].replace(np.NaN, mean)\n",
    "\n",
    "# print(data['Insulin'])"
   ]
  },
  {
   "cell_type": "code",
   "execution_count": 5,
   "metadata": {},
   "outputs": [],
   "source": [
    "def plot_correlation(data):\n",
    "    '''\n",
    "    plot correlation's matrix to explore dependency between features \n",
    "    '''\n",
    "    # init figure size\n",
    "    rcParams['figure.figsize'] = 15, 20\n",
    "    fig = plt.figure()\n",
    "    sns.heatmap(data.corr(), annot=True, fmt=\".2f\")\n",
    "    plt.show()\n",
    "    fig.savefig('corr.png')"
   ]
  },
  {
   "cell_type": "code",
   "execution_count": 6,
   "metadata": {},
   "outputs": [],
   "source": [
    "def plot_densities(data):\n",
    "    '''\n",
    "    Plot features densities depending on the outcome values\n",
    "    '''\n",
    "    # change fig size to fit all subplots \n",
    "    rcParams['figure.figsize'] = 15, 20\n",
    "\n",
    "    # separate data based on outcome values \n",
    "    outcome_0 = data[data['Outcome'] == 0]\n",
    "    outcome_1 = data[data['Outcome'] == 1]\n",
    "    \n",
    "    # init figure\n",
    "    fig, axs = plt.subplots(8, 1)\n",
    "    fig.suptitle('Features densities for different outcomes 0/1')\n",
    "    plt.subplots_adjust(left = 0.25, right = 0.9, bottom = 0.1, top = 0.95,\n",
    "                        wspace = 0.2, hspace = 0.9)\n",
    "             \n",
    "    # plot densities for outcomes\n",
    "    for column_name in names[:-1]: \n",
    "        ax = axs[names.index(column_name)]\n",
    "        outcome_0[column_name].plot(kind='density', ax=ax, subplots=True, \n",
    "                                    sharex=False, color=\"red\", legend=True,\n",
    "                                    label=column_name + ' for Outcome = 0')\n",
    "        outcome_1[column_name].plot(kind='density', ax=ax, subplots=True, \n",
    "                                     sharex=False, color=\"green\", legend=True,\n",
    "                                     label=column_name + ' for Outcome = 1')\n",
    "        ax.set_xlabel(column_name + ' values')\n",
    "        ax.set_title(column_name + ' density')\n",
    "        ax.grid('on')\n",
    "    plt.show()\n",
    "    fig.savefig('densities.png')"
   ]
  },
  {
   "cell_type": "code",
   "execution_count": 7,
   "metadata": {},
   "outputs": [],
   "source": [
    "# plot correlation & densities\n",
    "# plot_correlation(data)\n",
    "# plot_densities(data)"
   ]
  },
  {
   "cell_type": "code",
   "execution_count": 8,
   "metadata": {},
   "outputs": [],
   "source": [
    "def accuracy(k, X_train, y_train, X_test, y_test):\n",
    "    '''\n",
    "    compute accuracy of the classification based on k values \n",
    "    '''\n",
    "    # instantiate learning model and fit data\n",
    "    knn = KNeighborsClassifier(n_neighbors=k)    \n",
    "    knn.fit(X_train, y_train)\n",
    "    \n",
    "    # predict the response\n",
    "    pred = knn.predict(X_test)\n",
    "    \n",
    "    # evaluate and return  accuracy\n",
    "    return accuracy_score(y_test, pred)"
   ]
  },
  {
   "cell_type": "code",
   "execution_count": 9,
   "metadata": {},
   "outputs": [],
   "source": [
    "def optimal_k_value(X, y):\n",
    "    ''' \n",
    "    iterate through different values for k\n",
    "    '''\n",
    "    # split data into training and testing set\n",
    "    X_train, X_test, y_train, y_test = train_test_split(X, y, test_size = 0.33, random_state = 41)\n",
    "    \n",
    "    # init vars\n",
    "    k_values = [3, 5, 10]\n",
    "    for n_neighbors in k_values:\n",
    "        n_neighbors = n_neighbors\n",
    "    \n",
    "        # create an instance of Neighbours Classifier and fit the data.\n",
    "        clf = neighbors.KNeighborsClassifier(n_neighbors, weights='distance')\n",
    "        clf.fit(X_train, y_train)\n",
    "        \n",
    "        # print results\n",
    "        print('----------------------------------------------------------------------')\n",
    "        print('Accuracy = %5s' % round(accuracy(n_neighbors, X_train, y_train, X_test, y_test), 3))\n",
    "        print('----------------------------------------------------------------------')"
   ]
  },
  {
   "cell_type": "code",
   "execution_count": 10,
   "metadata": {},
   "outputs": [
    {
     "name": "stdout",
     "output_type": "stream",
     "text": [
      "----------------------------------------------------------------------\n",
      "Accuracy =   0.4\n",
      "----------------------------------------------------------------------\n",
      "----------------------------------------------------------------------\n",
      "Accuracy =   0.4\n",
      "----------------------------------------------------------------------\n",
      "----------------------------------------------------------------------\n",
      "Accuracy =   0.4\n",
      "----------------------------------------------------------------------\n"
     ]
    }
   ],
   "source": [
    "# we only take the best two features and prepare them for the KNN classifier\n",
    "rows_nbr = 30\n",
    "X_prime  = np.array(data.iloc[:rows_nbr, [1,5]])\n",
    "X        = preprocessing.scale(X_prime)\n",
    "X        = X_prime\n",
    "y        = np.array(data.iloc[:rows_nbr, 8])\n",
    "\n",
    "# evaluate accuracy for k values of 3, 5, and 10\n",
    "optimal_k_value(X, y)"
   ]
  },
  {
   "cell_type": "code",
   "execution_count": 11,
   "metadata": {},
   "outputs": [],
   "source": [
    "def classify_and_plot(X, y):\n",
    "    ''' \n",
    "    split data, fit, classify, plot and evaluate results \n",
    "    '''\n",
    "    # split data into training and testing set\n",
    "    X_train, X_test, y_train, y_test = train_test_split(X, y, test_size = 0.33, random_state = 41)\n",
    "    best_n_neighbours = np.argmax(np.array([accuracy(k, X_train, y_train, X_test, y_test) for k in range(1, int(rows_nbr/2))])) + 1\n",
    "    weights = 'distance'\n",
    "    print('----------------------------------------------------------------------')\n",
    "    print('For best accuracy use k = ', best_n_neighbours)\n",
    "    print('----------------------------------------------------------------------')\n",
    "    \n",
    "    # init vars\n",
    "    n_neighbors = best_n_neighbours\n",
    "    h           = .02  # step size in the mesh\n",
    "    \n",
    "    # Create color maps\n",
    "    cmap_light = ListedColormap(['#FFAAAA', '#AAAAFF'])\n",
    "    cmap_bold  = ListedColormap(['#FF0000', '#0000FF'])\n",
    "    \n",
    "    rcParams['figure.figsize'] = 5, 5\n",
    "    # we create an instance of Neighbours Classifier and fit the data.\n",
    "    clf = neighbors.KNeighborsClassifier(n_neighbors, weights='distance')\n",
    "    clf.fit(X_train, y_train)\n",
    "    \n",
    "    # Plot the decision boundary. For that, we will assign a color to each\n",
    "    # point in the mesh [x_min, x_max]x[y_min, y_max].\n",
    "    x_min, x_max = X[:, 0].min() - 1, X[:, 0].max() + 1\n",
    "    y_min, y_max = X[:, 1].min() - 1, X[:, 1].max() + 1\n",
    "    xx, yy = np.meshgrid(np.arange(x_min, x_max, h),\n",
    "                                 np.arange(y_min, y_max, h))\n",
    "    Z = clf.predict(np.c_[xx.ravel(), yy.ravel()])\n",
    "    \n",
    "    # Put the result into a color plot\n",
    "    Z = Z.reshape(xx.shape)\n",
    "    fig = plt.figure()    \n",
    "    plt.pcolormesh(xx, yy, Z, cmap=cmap_light)\n",
    "    \n",
    "    # Plot also the training points, x-axis = 'Glucose', y-axis = \"BMI\"\n",
    "    plt.scatter(X[:, 0], X[:, 1], c=y, cmap=cmap_bold, edgecolor='k', s=20)   \n",
    "    plt.xlim(xx.min(), xx.max())\n",
    "    plt.ylim(yy.min(), yy.max())\n",
    "    plt.title(\"0/1 outcome classification (k = %i, weights = '%s')\" % (n_neighbors, weights))\n",
    "    plt.xlabel(\"Glucose\")\n",
    "    plt.ylabel(\"BMI\")\n",
    "    plt.show()\n",
    "    fig.savefig(weights +'.png')\n",
    "    \n",
    "    # evaluate\n",
    "    y_expected  = y_test\n",
    "    y_predicted = clf.predict(X_test)\n",
    "        \n",
    "    # print results\n",
    "    print('----------------------------------------------------------------------')\n",
    "    print('Classification report')\n",
    "    print('----------------------------------------------------------------------')\n",
    "    print('\\n', classification_report(y_expected, y_predicted))\n",
    "    print('----------------------------------------------------------------------')\n",
    "    print('Accuracy = %5s' % round(accuracy(n_neighbors, X_train, y_train, X_test, y_test), 3))\n",
    "    print('----------------------------------------------------------------------')"
   ]
  },
  {
   "cell_type": "code",
   "execution_count": 12,
   "metadata": {},
   "outputs": [
    {
     "name": "stdout",
     "output_type": "stream",
     "text": [
      "----------------------------------------------------------------------\n",
      "For best accuracy use k =  14\n",
      "----------------------------------------------------------------------\n"
     ]
    },
    {
     "data": {
      "image/png": "[encoded data removed]",
      "text/plain": [
       "<Figure size 500x500 with 1 Axes>"
      ]
     },
     "metadata": {},
     "output_type": "display_data"
    },
    {
     "name": "stdout",
     "output_type": "stream",
     "text": [
      "----------------------------------------------------------------------\n",
      "Classification report\n",
      "----------------------------------------------------------------------\n",
      "\n",
      "               precision    recall  f1-score   support\n",
      "\n",
      "           0       0.00      0.00      0.00         5\n",
      "           1       0.44      0.80      0.57         5\n",
      "\n",
      "    accuracy                           0.40        10\n",
      "   macro avg       0.22      0.40      0.29        10\n",
      "weighted avg       0.22      0.40      0.29        10\n",
      "\n",
      "----------------------------------------------------------------------\n",
      "Accuracy =   0.7\n",
      "----------------------------------------------------------------------\n"
     ]
    }
   ],
   "source": [
    "# we only take the best two features and prepare them for the KNN classifier\n",
    "rows_nbr = 30\n",
    "X_prime  = np.array(data.iloc[:rows_nbr, [1,5]])\n",
    "X        = preprocessing.scale(X_prime)\n",
    "X        = X_prime\n",
    "y        = np.array(data.iloc[:rows_nbr, 8])\n",
    "\n",
    "# classify, evaluate and plot results\n",
    "classify_and_plot(X, y)"
   ]
  }
 ],
 "metadata": {
  "kernelspec": {
   "display_name": "Python 3",
   "language": "python",
   "name": "python3"
  },
  "language_info": {
   "codemirror_mode": {
    "name": "ipython",
    "version": 3
   },
   "file_extension": ".py",
   "mimetype": "text/x-python",
   "name": "python",
   "nbconvert_exporter": "python",
   "pygments_lexer": "ipython3",
   "version": "3.11.3"
  }
 },
 "nbformat": 4,
 "nbformat_minor": 2
}
